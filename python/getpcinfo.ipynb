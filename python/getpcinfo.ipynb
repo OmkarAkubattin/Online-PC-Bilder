{
 "cells": [
  {
   "cell_type": "code",
   "execution_count": 16,
   "metadata": {},
   "outputs": [],
   "source": [
    "import pandas as pd\n",
    "import numpy as np\n",
    "import requests\n",
    "from bs4 import BeautifulSoup\n",
    "import os\n",
    "import csv\n",
    "import json"
   ]
  },
  {
   "cell_type": "code",
   "execution_count": 17,
   "metadata": {},
   "outputs": [],
   "source": [
    "def getdata(url,comp):\n",
    "    headers = {'User-Agent': \"Mozilla/5.0 (Windows NT 10.0; Win64; x64) AppleWebKit/537.36 (KHTML, like Gecko) Chrome/42.0.2311.135 Safari/537.36 Edge/12.246\"}\n",
    "    r = requests.get(url=url, headers=headers)\n",
    "    soup = BeautifulSoup(r.content)\n",
    "    table = soup.find('table', attrs = {'id':''})\n",
    "    df={}\n",
    "    ahrefs = table.findAll('a',attrs = {'rel':'nofollow'})\n",
    "    imgs = table.findAll('img',attrs = {'loading':'lazy'})\n",
    "    i=1\n",
    "    for img in imgs:\n",
    "        os.system(\"mkdir C:\\\\xampp\\\\htdocs\\\\project\\\\images\\\\\"+comp)\n",
    "        with open('C:\\\\xampp\\\\htdocs\\\\project\\\\images\\\\'+comp+'\\\\'+str(i)+'.jpg','wb') as imgfile:\n",
    "                imgfile.write(requests.get(img['src']).content)\n",
    "        i=i+1\n",
    "    for ahref in ahrefs:\n",
    "        with open('C:\\\\xampp\\\\htdocs\\\\project\\\\images\\\\'+comp+'\\\\'+comp+'.txt','a') as ahreffile:\n",
    "                ahreffile.write(ahref['href']+\"\\n\")\n",
    "\n",
    "    \n"
   ]
  },
  {
   "cell_type": "code",
   "execution_count": 23,
   "metadata": {},
   "outputs": [
    {
     "name": "stdout",
     "output_type": "stream",
     "text": [
      "https://assembleyourpc.net/components/processor\n",
      "https://assembleyourpc.net/components/motherboard\n",
      "https://assembleyourpc.net/components/memory\n",
      "https://assembleyourpc.net/components/storage\n",
      "https://assembleyourpc.net/components/graphics_card\n",
      "https://assembleyourpc.net/components/cabinet\n",
      "https://assembleyourpc.net/components/power_supply\n",
      "https://assembleyourpc.net/components/cpu_cooler\n",
      "https://assembleyourpc.net/components/cabinet_fan\n",
      "https://assembleyourpc.net/components/monitor\n",
      "https://assembleyourpc.net/components/keyboard\n",
      "https://assembleyourpc.net/components/mouse\n",
      "https://assembleyourpc.net/components/headphones\n",
      "https://assembleyourpc.net/components/speakers\n"
     ]
    }
   ],
   "source": [
    "i=0\n",
    "with open(\"url.txt\",'r') as urllist,open(\"comp.txt\",'r') as complist:\n",
    "    comp = complist.read().splitlines()\n",
    "    for url in urllist.read().splitlines():\n",
    "        print(url)\n",
    "        getdata(url,comp[i])\n",
    "        i=i+1"
   ]
  }
 ],
 "metadata": {
  "interpreter": {
   "hash": "06c5e668768adb19c05a4a8b534eafaf5a68ce8f1d875f1927c148bf5b7b800a"
  },
  "kernelspec": {
   "display_name": "Python 3.8.7 64-bit",
   "language": "python",
   "name": "python3"
  },
  "language_info": {
   "codemirror_mode": {
    "name": "ipython",
    "version": 3
   },
   "file_extension": ".py",
   "mimetype": "text/x-python",
   "name": "python",
   "nbconvert_exporter": "python",
   "pygments_lexer": "ipython3",
   "version": "3.8.7"
  },
  "orig_nbformat": 4
 },
 "nbformat": 4,
 "nbformat_minor": 2
}
